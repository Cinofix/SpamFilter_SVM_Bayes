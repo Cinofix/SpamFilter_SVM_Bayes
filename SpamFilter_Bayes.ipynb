{
 "cells": [
  {
   "cell_type": "code",
   "execution_count": 18,
   "metadata": {
    "ExecuteTime": {
     "end_time": "2018-04-29T10:26:27.072429Z",
     "start_time": "2018-04-29T10:26:26.895488Z"
    }
   },
   "outputs": [],
   "source": [
    "# Antonio Emanuele Cinà\n",
    "# Simple spam filter using Naive Bayes classifier\n",
    "import numpy as np\n",
    "from sklearn.model_selection import cross_val_score\n",
    "\n",
    "TRAINING_SET = \"spambase/spambase.data\"\n",
    "\n",
    "def load_csv(filename):\n",
    "    fread = open(filename, \"r\")\n",
    "    data = np.loadtxt(fread, delimiter=\",\")\n",
    "    return data\n",
    "\n",
    "email = load_csv(TRAINING_SET)"
   ]
  },
  {
   "cell_type": "code",
   "execution_count": 19,
   "metadata": {
    "ExecuteTime": {
     "end_time": "2018-04-29T10:26:27.868199Z",
     "start_time": "2018-04-29T10:26:27.839358Z"
    }
   },
   "outputs": [],
   "source": [
    "from sklearn.base import BaseEstimator\n",
    "class NaiveBayesClassifier(BaseEstimator):\n",
    "\n",
    "    def score(self, X, Y):\n",
    "        p_x_spam_i = (2*np.pi*self.var_spam)**(-1./2) * np.exp(-1./(2*self.var_spam)*np.power(X-self.mu_spam,2))\n",
    "        p_x_ham_i = (2*np.pi*self.var_ham)**(-1./2) * np.exp(-1./(2*self.var_ham)*np.power(X-self.mu_ham,2))\n",
    "        \n",
    "        p_x_spam = np.prod(p_x_spam_i, axis= 1)\n",
    "        p_x_ham = np.prod(p_x_ham_i, axis= 1)\n",
    "        \n",
    "        #p_x = (p_x_spam * self.p_spam + p_x_ham * self.p_ham)# + 1e-130\n",
    "        p_spam_x = p_x_spam * self.p_spam#/p_x\n",
    "        p_ham_x = p_x_ham * self.p_ham#/p_x\n",
    "                           \n",
    "        predicted_labels = np.argmax([p_ham_x,p_spam_x], axis = 0)\n",
    "        return np.mean(predicted_labels == Y)\n",
    "\n",
    "    def fit(self, X, Y, **kwargs):\n",
    "        self.spam = X[Y == 1,:54]\n",
    "        self.ham = X[Y == 0,:54]\n",
    "        \n",
    "        self.N = float(self.spam.shape[0] + self.ham.shape[0])\n",
    "        self.k_spam = self.spam.shape[0] # frequency of spam\n",
    "        self.k_ham = self.ham.shape[0] # frequency of ham\n",
    "\n",
    "        self.p_spam = self.k_spam/self.N\n",
    "        self.p_ham = self.k_ham/self.N\n",
    "        \n",
    "        self.mu_spam = np.mean(self.spam, axis=0)\n",
    "        self.mu_ham = np.mean(self.ham, axis=0)\n",
    "        \n",
    "        # Avoid division by zero adding a small costant\n",
    "        self.var_spam = np.var(self.spam, axis=0)+1e-128\n",
    "        self.var_ham = np.var(self.ham, axis=0)+1e-128"
   ]
  },
  {
   "cell_type": "code",
   "execution_count": 20,
   "metadata": {
    "ExecuteTime": {
     "end_time": "2018-04-29T10:26:30.057351Z",
     "start_time": "2018-04-29T10:26:30.048090Z"
    }
   },
   "outputs": [],
   "source": [
    "np.random.shuffle(email)# shuffle dataset\n",
    "Y = email[:,57] \n",
    "X = email[:,:54]"
   ]
  },
  {
   "cell_type": "code",
   "execution_count": 21,
   "metadata": {
    "ExecuteTime": {
     "end_time": "2018-04-29T10:26:30.912764Z",
     "start_time": "2018-04-29T10:26:30.851944Z"
    }
   },
   "outputs": [],
   "source": [
    "scores = cross_val_score(NaiveBayesClassifier(), X, Y, cv = 10)"
   ]
  },
  {
   "cell_type": "code",
   "execution_count": 22,
   "metadata": {
    "ExecuteTime": {
     "end_time": "2018-04-29T10:26:31.595382Z",
     "start_time": "2018-04-29T10:26:31.584651Z"
    }
   },
   "outputs": [
    {
     "name": "stdout",
     "output_type": "stream",
     "text": [
      "Min Accuracy: 0.7717391304347826\n",
      "\n",
      "Mean Accuracy: 0.8056898990851644\n",
      "\n",
      "Max Accuracy: 0.8347826086956521\n",
      "\n",
      "Variance/Std Accuracy: 0.0003930480038227552 / 0.019825438300899056\n",
      "\n",
      "=================================\n"
     ]
    }
   ],
   "source": [
    "print(\"Min Accuracy: \" + str(scores.min())+\"\\n\")\n",
    "print(\"Mean Accuracy: \" + str(scores.mean())+\"\\n\")\n",
    "print(\"Max Accuracy: \" + str(scores.max())+\"\\n\")\n",
    "print(\"Variance/Std Accuracy: \" + str(scores.var()) +\" / \" +str(scores.std())+\"\\n\")\n",
    "\n",
    "print(\"=================================\")"
   ]
  },
  {
   "cell_type": "code",
   "execution_count": 23,
   "metadata": {
    "ExecuteTime": {
     "end_time": "2018-04-29T10:26:49.079589Z",
     "start_time": "2018-04-29T10:26:49.063962Z"
    }
   },
   "outputs": [],
   "source": [
    "# Apply 10-Way Cross validation 'run' times and get all the scores \n",
    "def eval_model(data, classifier, run = 10):\n",
    "    scores = np.array([])\n",
    "    for i in range(run):\n",
    "        np.random.shuffle(data)\n",
    "        Y = email[:,57] \n",
    "        X = email[:,:54]\n",
    "        scores = np.append(scores,cross_val_score(classifier, X, Y, cv = 10))\n",
    "    return scores"
   ]
  },
  {
   "cell_type": "code",
   "execution_count": 29,
   "metadata": {
    "ExecuteTime": {
     "end_time": "2018-04-29T10:32:10.323417Z",
     "start_time": "2018-04-29T10:32:09.431989Z"
    }
   },
   "outputs": [
    {
     "name": "stdout",
     "output_type": "stream",
     "text": [
      "Min Accuracy: 0.7086956521739131\n",
      "\n",
      "Mean Accuracy: 0.8039997170612091\n",
      "\n",
      "Max Accuracy: 0.8652173913043478\n",
      "\n",
      "Variance/Std Accuracy: 0.0008362055152846054 / 0.028917218318583227\n",
      "\n",
      "=================================\n"
     ]
    }
   ],
   "source": [
    "scores_run = eval_model(email, NaiveBayesClassifier(),run = 20)\n",
    "print(\"Min Accuracy: \" + str(scores_run.min())+\"\\n\")\n",
    "print(\"Mean Accuracy: \" + str(scores_run.mean())+\"\\n\")\n",
    "print(\"Max Accuracy: \" + str(scores_run.max())+\"\\n\")\n",
    "print(\"Variance/Std Accuracy: \" + str(scores_run.var()) +\" / \" +str(scores_run.std())+\"\\n\")\n",
    "print(\"=================================\")"
   ]
  },
  {
   "cell_type": "code",
   "execution_count": null,
   "metadata": {
    "ExecuteTime": {
     "end_time": "2018-04-28T14:35:24.302568Z",
     "start_time": "2018-04-28T14:35:24.283736Z"
    }
   },
   "outputs": [],
   "source": [
    "from sklearn.model_selection import train_test_split\n",
    "x_train, x_test, y_train, y_test = train_test_split(X, Y, test_size=0.3)\n",
    "\n",
    "clf = NaiveBayesClassificator()\n",
    "md = clf.fit(x_train,y_train)\n",
    "\n",
    "print(\"Accuracy: \"+str(clf.score(x_test, y_test)))"
   ]
  },
  {
   "cell_type": "code",
   "execution_count": null,
   "metadata": {
    "ExecuteTime": {
     "end_time": "2018-04-28T14:35:25.633481Z",
     "start_time": "2018-04-28T14:35:25.628676Z"
    }
   },
   "outputs": [],
   "source": [
    "print(\"p(spam): \"+str(clf.p_spam))\n",
    "print(\"p(ham): \"+str(clf.p_ham))"
   ]
  },
  {
   "cell_type": "code",
   "execution_count": null,
   "metadata": {
    "ExecuteTime": {
     "end_time": "2018-04-28T15:20:08.225246Z",
     "start_time": "2018-04-28T15:20:08.212960Z"
    }
   },
   "outputs": [],
   "source": [
    "print(\"mu spam: \"+str(np.round(clf.mu_spam,3)))\n",
    "print(\"var spam: \"+str(np.round(clf.var_spam,3)))"
   ]
  },
  {
   "cell_type": "code",
   "execution_count": null,
   "metadata": {
    "ExecuteTime": {
     "end_time": "2018-04-28T15:24:27.896721Z",
     "start_time": "2018-04-28T15:24:27.889338Z"
    }
   },
   "outputs": [],
   "source": [
    "print(\"mu spam: \"+str(np.round(clf.mu_ham,3)))\n",
    "print(\"var spam: \"+str(np.round(clf.var_ham,3)))"
   ]
  }
 ],
 "metadata": {
  "kernelspec": {
   "display_name": "Python 2",
   "language": "python",
   "name": "python2"
  },
  "language_info": {
   "codemirror_mode": {
    "name": "ipython",
    "version": 2
   },
   "file_extension": ".py",
   "mimetype": "text/x-python",
   "name": "python",
   "nbconvert_exporter": "python",
   "pygments_lexer": "ipython2",
   "version": "2.7.12"
  }
 },
 "nbformat": 4,
 "nbformat_minor": 2
}

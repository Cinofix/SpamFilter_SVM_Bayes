{
 "cells": [
  {
   "cell_type": "code",
   "execution_count": 1,
   "metadata": {
    "ExecuteTime": {
     "end_time": "2018-05-02T10:54:05.029633Z",
     "start_time": "2018-05-02T10:54:04.786731Z"
    }
   },
   "outputs": [],
   "source": [
    "# Antonio Emanuele Cinà\n",
    "# Simple spam filter using Support Vector Machine classifier\n",
    "import numpy as np\n",
    "from sklearn.svm import SVC\n",
    "from sklearn.model_selection import cross_val_score\n",
    "\n",
    "TRAINING_SET = \"spambase/spambase.data\"\n",
    "\n",
    "def load_csv(filename):\n",
    "    fread = open(filename, \"r\")\n",
    "    data = np.loadtxt(fread, delimiter=\",\")\n",
    "    return data\n",
    "\n",
    "def tfidf(email):\n",
    "    ndoc = email.shape[0]\n",
    "    idf = np.log10(ndoc/(email != 0).sum(0))\n",
    "    return email/100.0*idf"
   ]
  },
  {
   "cell_type": "code",
   "execution_count": 2,
   "metadata": {
    "ExecuteTime": {
     "end_time": "2018-05-02T10:54:05.814554Z",
     "start_time": "2018-05-02T10:54:05.628850Z"
    }
   },
   "outputs": [],
   "source": [
    "email = load_csv(TRAINING_SET)\n",
    "np.random.shuffle(email)\n",
    "\n",
    "Y = email[:,57] # classes\n",
    "X = email[:,:54] # values\n",
    "\n",
    "X = tfidf(X)"
   ]
  },
  {
   "cell_type": "code",
   "execution_count": 1,
   "metadata": {
    "ExecuteTime": {
     "end_time": "2018-07-17T13:59:16.083778Z",
     "start_time": "2018-07-17T13:59:16.046382Z"
    }
   },
   "outputs": [
    {
     "ename": "NameError",
     "evalue": "name 'SVC' is not defined",
     "output_type": "error",
     "traceback": [
      "\u001b[0;31m---------------------------------------------------------------------------\u001b[0m",
      "\u001b[0;31mNameError\u001b[0m                                 Traceback (most recent call last)",
      "\u001b[0;32m<ipython-input-1-6671ab49fe17>\u001b[0m in \u001b[0;36m<module>\u001b[0;34m()\u001b[0m\n\u001b[1;32m      2\u001b[0m \u001b[0;31m### Linear Kernel ######\u001b[0m\u001b[0;34m\u001b[0m\u001b[0;34m\u001b[0m\u001b[0m\n\u001b[1;32m      3\u001b[0m \u001b[0;31m########################\u001b[0m\u001b[0;34m\u001b[0m\u001b[0;34m\u001b[0m\u001b[0m\n\u001b[0;32m----> 4\u001b[0;31m \u001b[0mclf\u001b[0m \u001b[0;34m=\u001b[0m \u001b[0mSVC\u001b[0m\u001b[0;34m(\u001b[0m\u001b[0mkernel\u001b[0m\u001b[0;34m=\u001b[0m\u001b[0;34m\"linear\"\u001b[0m\u001b[0;34m,\u001b[0m \u001b[0mC\u001b[0m \u001b[0;34m=\u001b[0m \u001b[0;36m1.0\u001b[0m\u001b[0;34m)\u001b[0m\u001b[0;34m\u001b[0m\u001b[0m\n\u001b[0m\u001b[1;32m      5\u001b[0m \u001b[0mscores_ln\u001b[0m \u001b[0;34m=\u001b[0m \u001b[0mcross_val_score\u001b[0m\u001b[0;34m(\u001b[0m\u001b[0mclf\u001b[0m\u001b[0;34m,\u001b[0m \u001b[0mX\u001b[0m\u001b[0;34m,\u001b[0m \u001b[0mY\u001b[0m\u001b[0;34m,\u001b[0m \u001b[0mcv\u001b[0m \u001b[0;34m=\u001b[0m \u001b[0;36m10\u001b[0m\u001b[0;34m,\u001b[0m \u001b[0mn_jobs\u001b[0m\u001b[0;34m=\u001b[0m \u001b[0;36m8\u001b[0m\u001b[0;34m)\u001b[0m\u001b[0;34m\u001b[0m\u001b[0m\n\u001b[1;32m      6\u001b[0m \u001b[0mprint\u001b[0m\u001b[0;34m(\u001b[0m\u001b[0;34m\"Min Accuracy Linear Kernel: \"\u001b[0m \u001b[0;34m+\u001b[0m \u001b[0mstr\u001b[0m\u001b[0;34m(\u001b[0m\u001b[0mscores_ln\u001b[0m\u001b[0;34m.\u001b[0m\u001b[0mmin\u001b[0m\u001b[0;34m(\u001b[0m\u001b[0;34m)\u001b[0m\u001b[0;34m)\u001b[0m\u001b[0;34m+\u001b[0m\u001b[0;34m\"\\n\"\u001b[0m\u001b[0;34m)\u001b[0m\u001b[0;34m\u001b[0m\u001b[0m\n",
      "\u001b[0;31mNameError\u001b[0m: name 'SVC' is not defined"
     ]
    }
   ],
   "source": [
    "########################\n",
    "### Linear Kernel ######\n",
    "########################\n",
    "clf = SVC(kernel=\"linear\", C = 1.0)\n",
    "scores_ln = cross_val_score(clf, X, Y, cv = 10, n_jobs= 8)\n",
    "print(\"Min Accuracy Linear Kernel: \" + str(scores_ln.min())+\"\\n\")\n",
    "print(\"Mean Accuracy Linear Kernel: \" + str(scores_ln.mean())+\"\\n\")\n",
    "print(\"Max Accuracy Linear Kernel: \" + str(scores_ln.max())+\"\\n\")\n",
    "print(\"Variance/Std Accuracy Linear Kernel: \" + str(scores_ln.var()) +\" / \" +str(scores_ln.std())+\"\\n\")\n",
    "print(\"=================================\")"
   ]
  },
  {
   "cell_type": "code",
   "execution_count": 5,
   "metadata": {
    "ExecuteTime": {
     "end_time": "2018-05-02T10:54:35.012395Z",
     "start_time": "2018-05-02T10:54:31.130758Z"
    }
   },
   "outputs": [
    {
     "name": "stdout",
     "output_type": "stream",
     "text": [
      "Min Accuracy Linear Kernel: 0.6052060737527115\n",
      "\n",
      "Mean Accuracy Linear Kernel: 0.6059555892945166\n",
      "\n",
      "Max Accuracy Linear Kernel: 0.6065217391304348\n",
      "\n",
      "Variance/Std Accuracy Linear Kernel: 3.457428732817126e-07 / 0.0005879990419054376\n",
      "\n",
      "=================================\n"
     ]
    }
   ],
   "source": [
    "########################\n",
    "###  Poly Kernel  ######\n",
    "########################\n",
    "clf_pl = SVC(kernel=\"poly\", degree = 2, C = 1.0)\n",
    "scores_pl = cross_val_score(clf_pl, X, Y, cv = 10, n_jobs= 8)\n",
    "print(\"Min Accuracy Linear Kernel: \" + str(scores_pl.min())+\"\\n\")\n",
    "print(\"Mean Accuracy Linear Kernel: \" + str(scores_pl.mean())+\"\\n\")\n",
    "print(\"Max Accuracy Linear Kernel: \" + str(scores_pl.max())+\"\\n\")\n",
    "print(\"Variance/Std Accuracy Linear Kernel: \" + str(scores_pl.var()) +\" / \" +str(scores_pl.std())+\"\\n\")\n",
    "print(\"=================================\")"
   ]
  },
  {
   "cell_type": "code",
   "execution_count": 6,
   "metadata": {
    "ExecuteTime": {
     "end_time": "2018-05-02T10:54:40.834997Z",
     "start_time": "2018-05-02T10:54:35.952579Z"
    }
   },
   "outputs": [
    {
     "name": "stdout",
     "output_type": "stream",
     "text": [
      "Min Accuracy RBF Kernel: 0.6052060737527115\n",
      "\n",
      "Mean Accuracy RBF Kernel: 0.6059555892945166\n",
      "\n",
      "Max Accuracy RBF Kernel: 0.6065217391304348\n",
      "\n",
      "Variance/Std Accuracy Linear Kernel: 3.457428732817126e-07 / 0.0005879990419054376\n",
      "\n",
      "=================================\n"
     ]
    }
   ],
   "source": [
    "########################\n",
    "### RBF Kernel #########\n",
    "########################\n",
    "clf_rbf = SVC(kernel=\"rbf\", C = 1.0)\n",
    "scores_rbf = cross_val_score(clf_rbf, X, Y, cv = 10, n_jobs= 8)\n",
    "print(\"Min Accuracy RBF Kernel: \" + str(scores_rbf.min())+\"\\n\")\n",
    "print(\"Mean Accuracy RBF Kernel: \" + str(scores_rbf.mean())+\"\\n\")\n",
    "print(\"Max Accuracy RBF Kernel: \" + str(scores_rbf.max())+\"\\n\")\n",
    "print(\"Variance/Std Accuracy Linear Kernel: \" + str(scores_rbf.var()) +\" / \" +str(scores_rbf.std())+\"\\n\")\n",
    "print(\"=================================\")"
   ]
  },
  {
   "cell_type": "code",
   "execution_count": 7,
   "metadata": {
    "ExecuteTime": {
     "end_time": "2018-05-02T10:54:41.382163Z",
     "start_time": "2018-05-02T10:54:41.363803Z"
    }
   },
   "outputs": [],
   "source": [
    "norms = np.sqrt(((X+1e-128) ** 2).sum(axis=1, keepdims=True))\n",
    "XX = np.where(norms > 0.0, X / norms, 0.)"
   ]
  },
  {
   "cell_type": "code",
   "execution_count": 8,
   "metadata": {
    "ExecuteTime": {
     "end_time": "2018-05-02T10:54:50.733723Z",
     "start_time": "2018-05-02T10:54:49.440294Z"
    }
   },
   "outputs": [
    {
     "name": "stdout",
     "output_type": "stream",
     "text": [
      "Min Accuracy Linear Kernel: 0.9\n",
      "\n",
      "Mean Accuracy Linear Kernel: 0.9215494443242417\n",
      "\n",
      "Max Accuracy Linear Kernel: 0.9477124183006536\n",
      "\n",
      "Variance/Std Accuracy Linear Kernel: 0.00016820496178325333 / 0.012969385559202615\n",
      "\n",
      "=================================\n"
     ]
    }
   ],
   "source": [
    "########################\n",
    "### Linear Kernel ######\n",
    "########################\n",
    "clf_a = SVC(kernel=\"linear\", C = 1.0)\n",
    "scores_ln_a = cross_val_score(clf_a, XX, Y, cv = 10, n_jobs= 8)\n",
    "print(\"Min Accuracy Linear Kernel: \" + str(scores_ln_a.min())+\"\\n\")\n",
    "print(\"Mean Accuracy Linear Kernel: \" + str(scores_ln_a.mean())+\"\\n\")\n",
    "print(\"Max Accuracy Linear Kernel: \" + str(scores_ln_a.max())+\"\\n\")\n",
    "print(\"Variance/Std Accuracy Linear Kernel: \" + str(scores_ln_a.var()) +\" / \" +str(scores_ln_a.std())+\"\\n\")\n",
    "print(\"=================================\")"
   ]
  },
  {
   "cell_type": "code",
   "execution_count": 9,
   "metadata": {
    "ExecuteTime": {
     "end_time": "2018-05-02T10:54:55.718657Z",
     "start_time": "2018-05-02T10:54:51.631261Z"
    }
   },
   "outputs": [
    {
     "name": "stdout",
     "output_type": "stream",
     "text": [
      "Min Accuracy Poly Kernel: 0.6052060737527115\n",
      "\n",
      "Mean Accuracy Poly Kernel: 0.6059555892945166\n",
      "\n",
      "Max Accuracy Poly Kernel: 0.6065217391304348\n",
      "\n",
      "Variance/Std Accuracy Linear Kernel: 3.457428732817126e-07 / 0.0005879990419054376\n",
      "\n",
      "=================================\n"
     ]
    }
   ],
   "source": [
    "############################\n",
    "### Polynomial Kernel ######\n",
    "############################\n",
    "clf_poly_a = SVC(kernel=\"poly\", degree = 2, C = 1.0)\n",
    "scores_pl_a = cross_val_score(clf_poly_a, XX, Y,cv = 10, n_jobs= 8)\n",
    "print(\"Min Accuracy Poly Kernel: \" + str(scores_pl_a.min())+\"\\n\")\n",
    "print(\"Mean Accuracy Poly Kernel: \" + str(scores_pl_a.mean())+\"\\n\")\n",
    "print(\"Max Accuracy Poly Kernel: \" + str(scores_pl_a.max())+\"\\n\")\n",
    "print(\"Variance/Std Accuracy Linear Kernel: \" + str(scores_pl_a.var()) +\" / \" +str(scores_pl_a.std())+\"\\n\")\n",
    "print(\"=================================\")"
   ]
  },
  {
   "cell_type": "code",
   "execution_count": 10,
   "metadata": {
    "ExecuteTime": {
     "end_time": "2018-05-02T10:54:58.583502Z",
     "start_time": "2018-05-02T10:54:56.101348Z"
    }
   },
   "outputs": [
    {
     "name": "stdout",
     "output_type": "stream",
     "text": [
      "Min Accuracy RBF Kernel: 0.8956521739130435\n",
      "\n",
      "Mean Accuracy RBF Kernel: 0.9161193691430695\n",
      "\n",
      "Max Accuracy RBF Kernel: 0.9411764705882353\n",
      "\n",
      "Variance/Std Accuracy Linear Kernel: 0.0001661921510609118 / 0.01289155347740961\n",
      "\n",
      "=================================\n"
     ]
    }
   ],
   "source": [
    "########################\n",
    "### RBF Kernel #########\n",
    "########################\n",
    "clf_rbf_a = SVC(kernel=\"rbf\", C = 1.0)\n",
    "scores_rbf_a = cross_val_score(clf_rbf_a, XX, Y, cv = 10, n_jobs= 8)\n",
    "print(\"Min Accuracy RBF Kernel: \" + str(scores_rbf_a.min())+\"\\n\")\n",
    "print(\"Mean Accuracy RBF Kernel: \" + str(scores_rbf_a.mean())+\"\\n\")\n",
    "print(\"Max Accuracy RBF Kernel: \" + str(scores_rbf_a.max())+\"\\n\")\n",
    "print(\"Variance/Std Accuracy Linear Kernel: \" + str(scores_rbf_a.var()) +\" / \" +str(scores_rbf_a.std())+\"\\n\")\n",
    "print(\"=================================\")"
   ]
  },
  {
   "cell_type": "code",
   "execution_count": 15,
   "metadata": {
    "ExecuteTime": {
     "end_time": "2018-05-02T10:59:40.696199Z",
     "start_time": "2018-05-02T10:59:40.686175Z"
    }
   },
   "outputs": [
    {
     "name": "stdout",
     "output_type": "stream",
     "text": [
      "3220\n"
     ]
    }
   ],
   "source": [
    "from sklearn.model_selection import train_test_split\n",
    "x_train, x_test, y_train, y_test = train_test_split(X, Y, test_size=0.3)\n",
    "xx_train, xx_test, yy_train, yy_test = train_test_split(XX, Y, test_size=0.3)\n",
    "n = XX.shape[0]\n",
    "n_train = xx_train.shape[0]\n",
    "print(n_train)"
   ]
  },
  {
   "cell_type": "code",
   "execution_count": 16,
   "metadata": {
    "ExecuteTime": {
     "end_time": "2018-05-02T10:59:41.480095Z",
     "start_time": "2018-05-02T10:59:41.472958Z"
    }
   },
   "outputs": [],
   "source": [
    "def print_model(clf, xx_train, yy_train):\n",
    "    clf_fit = clf.fit(xx_train, yy_train)\n",
    "    print(str(clf_fit.score(xx_train, yy_train)))\n",
    "    print(str(clf_lna.n_support_)) # number of support vectors for each class\n",
    "    print(str(clf_lna.support_vectors_)) # print support_vectors"
   ]
  },
  {
   "cell_type": "code",
   "execution_count": 17,
   "metadata": {
    "ExecuteTime": {
     "end_time": "2018-05-02T10:59:42.490793Z",
     "start_time": "2018-05-02T10:59:42.210844Z"
    }
   },
   "outputs": [
    {
     "name": "stdout",
     "output_type": "stream",
     "text": [
      "0.9236024844720497\n"
     ]
    }
   ],
   "source": [
    "clf_a = SVC(kernel= \"linear\", C = 1)\n",
    "clf_lna = clf_a.fit(xx_train, yy_train)\n",
    "print(str(clf_a.score(xx_train, yy_train)))"
   ]
  },
  {
   "cell_type": "code",
   "execution_count": 18,
   "metadata": {
    "ExecuteTime": {
     "end_time": "2018-05-02T10:59:56.352863Z",
     "start_time": "2018-05-02T10:59:56.345356Z"
    }
   },
   "outputs": [
    {
     "name": "stdout",
     "output_type": "stream",
     "text": [
      "(697, 54)\n",
      "[346 351]\n",
      "0\n",
      "[0.         0.         0.         0.         0.         0.\n",
      " 0.         0.         0.         0.         0.         0.\n",
      " 0.         0.         0.         0.         0.         0.\n",
      " 0.         0.         0.         0.         0.         0.\n",
      " 0.         0.         0.         0.         0.         0.\n",
      " 0.         0.         0.         0.         0.         0.\n",
      " 0.         0.         0.         0.         0.         0.\n",
      " 0.         0.         0.         0.         0.         0.\n",
      " 0.         0.         0.         0.         0.52271324 0.85250857]\n"
     ]
    }
   ],
   "source": [
    "### Parameters for linear angular kernel ###\n",
    "print(str(clf_lna.support_vectors_.shape))\n",
    "print(str(clf_lna.n_support_))\n",
    "print(clf_lna.support_vectors_.shape[0]/n_train)\n",
    "print(str(clf_lna.support_vectors_[0]))"
   ]
  },
  {
   "cell_type": "code",
   "execution_count": 20,
   "metadata": {
    "ExecuteTime": {
     "end_time": "2018-05-02T11:01:30.134241Z",
     "start_time": "2018-05-02T11:01:29.261888Z"
    }
   },
   "outputs": [
    {
     "name": "stdout",
     "output_type": "stream",
     "text": [
      "0.6021739130434782\n",
      "(2571, 54)\n",
      "[1287 1284]\n",
      "[0.         0.         0.         0.         0.         0.\n",
      " 0.         0.         0.         0.         0.         0.\n",
      " 0.         0.         0.         0.         0.         0.\n",
      " 0.         0.         0.         0.         0.         0.\n",
      " 0.         0.         0.         0.         0.         0.\n",
      " 0.         0.         0.         0.         0.         0.\n",
      " 0.         0.         0.         0.         0.         0.\n",
      " 0.         0.         0.         0.         0.         0.\n",
      " 0.         0.         0.         0.         0.52271324 0.85250857]\n"
     ]
    }
   ],
   "source": [
    "### Parameters for linear kernel ###\n",
    "clf_ln = clf.fit(x_train, y_train)\n",
    "print(str(clf.score(x_train, y_train)))\n",
    "print(str(clf_ln.support_vectors_.shape))\n",
    "print(str(clf_ln.n_support_))\n",
    "print(str(clf_lna.support_vectors_[0]))"
   ]
  },
  {
   "cell_type": "code",
   "execution_count": 21,
   "metadata": {
    "ExecuteTime": {
     "end_time": "2018-05-02T11:01:34.204415Z",
     "start_time": "2018-05-02T11:01:34.198821Z"
    }
   },
   "outputs": [],
   "source": [
    "def print_model(clf, xx_train, yy_train):\n",
    "    clf_fit = clf.fit(xx_train, yy_train)\n",
    "    print(str(clf_fit.score(xx_train, yy_train)))\n",
    "    print(str(clf_lna.n_support_)) # number of support vectors for each class\n",
    "    print(str(clf_lna.support_vectors_)) # print support_vectors"
   ]
  },
  {
   "cell_type": "code",
   "execution_count": 24,
   "metadata": {
    "ExecuteTime": {
     "end_time": "2018-05-02T11:02:08.767682Z",
     "start_time": "2018-05-02T11:02:07.812846Z"
    }
   },
   "outputs": [
    {
     "name": "stdout",
     "output_type": "stream",
     "text": [
      "0.6049689440993788\n",
      "[346 351]\n",
      "[[0.         0.         0.         ... 0.         0.52271324 0.85250857]\n",
      " [0.         0.1387799  0.         ... 0.07742835 0.         0.        ]\n",
      " [0.         0.         0.4868123  ... 0.25998987 0.         0.        ]\n",
      " ...\n",
      " [0.         0.         0.         ... 0.0052838  0.         0.        ]\n",
      " [0.         0.44925875 0.         ... 0.03547229 0.05622225 0.        ]\n",
      " [0.         0.         0.         ... 0.09661426 0.46014426 0.        ]]\n"
     ]
    }
   ],
   "source": [
    "# Polynomial kernel parameters\n",
    "print_model(clf_pl, xx_train, yy_train)"
   ]
  },
  {
   "cell_type": "code",
   "execution_count": 27,
   "metadata": {
    "ExecuteTime": {
     "end_time": "2018-05-02T11:02:56.214686Z",
     "start_time": "2018-05-02T11:02:55.317393Z"
    }
   },
   "outputs": [
    {
     "name": "stdout",
     "output_type": "stream",
     "text": [
      "0.6049689440993788\n",
      "[346 351]\n",
      "[[0.         0.         0.         ... 0.         0.52271324 0.85250857]\n",
      " [0.         0.1387799  0.         ... 0.07742835 0.         0.        ]\n",
      " [0.         0.         0.4868123  ... 0.25998987 0.         0.        ]\n",
      " ...\n",
      " [0.         0.         0.         ... 0.0052838  0.         0.        ]\n",
      " [0.         0.44925875 0.         ... 0.03547229 0.05622225 0.        ]\n",
      " [0.         0.         0.         ... 0.09661426 0.46014426 0.        ]]\n"
     ]
    }
   ],
   "source": [
    "# Polynomial angular kernel parameters\n",
    "print_model(clf_poly_a, xx_train, yy_train)\n",
    "# Note that for standard polynomial and angular polynomial we obtain the same parameters and results"
   ]
  },
  {
   "cell_type": "code",
   "execution_count": 28,
   "metadata": {
    "ExecuteTime": {
     "end_time": "2018-05-02T11:03:46.531090Z",
     "start_time": "2018-05-02T11:03:45.565891Z"
    }
   },
   "outputs": [
    {
     "name": "stdout",
     "output_type": "stream",
     "text": [
      "0.9139751552795031\n",
      "[346 351]\n",
      "[[0.         0.         0.         ... 0.         0.52271324 0.85250857]\n",
      " [0.         0.1387799  0.         ... 0.07742835 0.         0.        ]\n",
      " [0.         0.         0.4868123  ... 0.25998987 0.         0.        ]\n",
      " ...\n",
      " [0.         0.         0.         ... 0.0052838  0.         0.        ]\n",
      " [0.         0.44925875 0.         ... 0.03547229 0.05622225 0.        ]\n",
      " [0.         0.         0.         ... 0.09661426 0.46014426 0.        ]]\n"
     ]
    }
   ],
   "source": [
    "# RBF kernel parameters\n",
    "print_model(clf_rbf, xx_train, yy_train)"
   ]
  },
  {
   "cell_type": "code",
   "execution_count": 29,
   "metadata": {
    "ExecuteTime": {
     "end_time": "2018-05-02T11:04:03.313182Z",
     "start_time": "2018-05-02T11:04:02.487587Z"
    }
   },
   "outputs": [
    {
     "name": "stdout",
     "output_type": "stream",
     "text": [
      "0.9139751552795031\n",
      "[346 351]\n",
      "[[0.         0.         0.         ... 0.         0.52271324 0.85250857]\n",
      " [0.         0.1387799  0.         ... 0.07742835 0.         0.        ]\n",
      " [0.         0.         0.4868123  ... 0.25998987 0.         0.        ]\n",
      " ...\n",
      " [0.         0.         0.         ... 0.0052838  0.         0.        ]\n",
      " [0.         0.44925875 0.         ... 0.03547229 0.05622225 0.        ]\n",
      " [0.         0.         0.         ... 0.09661426 0.46014426 0.        ]]\n"
     ]
    }
   ],
   "source": [
    "# Angular RBF kernel parameters\n",
    "print_model(clf_rbf_a, xx_train, yy_train)"
   ]
  }
 ],
 "metadata": {
  "kernelspec": {
   "display_name": "Python 3",
   "language": "python",
   "name": "python3"
  },
  "language_info": {
   "codemirror_mode": {
    "name": "ipython",
    "version": 3
   },
   "file_extension": ".py",
   "mimetype": "text/x-python",
   "name": "python",
   "nbconvert_exporter": "python",
   "pygments_lexer": "ipython3",
   "version": "3.6.5"
  },
  "latex_envs": {
   "LaTeX_envs_menu_present": true,
   "autoclose": false,
   "autocomplete": true,
   "bibliofile": "biblio.bib",
   "cite_by": "apalike",
   "current_citInitial": 1,
   "eqLabelWithNumbers": true,
   "eqNumInitial": 1,
   "hotkeys": {
    "equation": "Ctrl-E",
    "itemize": "Ctrl-I"
   },
   "labels_anchors": false,
   "latex_user_defs": false,
   "report_style_numbering": false,
   "user_envs_cfg": false
  }
 },
 "nbformat": 4,
 "nbformat_minor": 2
}
